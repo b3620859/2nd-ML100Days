{
 "cells": [
  {
   "cell_type": "code",
   "execution_count": null,
   "metadata": {},
   "outputs": [],
   "source": [
    "# https://www.kaggle.com/naturebalance/starter-on-cats-dogs-case-fine-tuning-vgg16\n",
    "# https://www.kaggle.com/bulentsiyah/dogs-vs-cats-classification-vgg16-fine-tuning"
   ]
  },
  {
   "cell_type": "code",
   "execution_count": 1,
   "metadata": {},
   "outputs": [
    {
     "name": "stdout",
     "output_type": "stream",
     "text": [
      "['train', 'test']\n"
     ]
    }
   ],
   "source": [
    "import numpy as np \n",
    "import pandas as pd \n",
    "\n",
    "# Input data files are available in the \"../input/\" directory.\n",
    "# For example, running this (by clicking run or pressing Shift+Enter) will list the files in the input directory\n",
    "\n",
    "import os\n",
    "print(os.listdir(\"/home/cslab/Desktop/2nd_ML/data\"))"
   ]
  },
  {
   "cell_type": "code",
   "execution_count": 2,
   "metadata": {},
   "outputs": [],
   "source": [
    "filenames = os.listdir(\"/home/cslab/Desktop/2nd_ML/data/train\")\n",
    "categories = []\n",
    "for filename in filenames:\n",
    "    category = filename.split('.')[0]\n",
    "    if category == 'dog':\n",
    "        categories.append(0)\n",
    "    else:\n",
    "        categories.append(1)\n",
    "\n",
    "df = pd.DataFrame({\n",
    "    'filename': filenames,\n",
    "    'category': categories\n",
    "})"
   ]
  },
  {
   "cell_type": "code",
   "execution_count": 3,
   "metadata": {},
   "outputs": [
    {
     "data": {
      "text/html": [
       "<div>\n",
       "<style scoped>\n",
       "    .dataframe tbody tr th:only-of-type {\n",
       "        vertical-align: middle;\n",
       "    }\n",
       "\n",
       "    .dataframe tbody tr th {\n",
       "        vertical-align: top;\n",
       "    }\n",
       "\n",
       "    .dataframe thead th {\n",
       "        text-align: right;\n",
       "    }\n",
       "</style>\n",
       "<table border=\"1\" class=\"dataframe\">\n",
       "  <thead>\n",
       "    <tr style=\"text-align: right;\">\n",
       "      <th></th>\n",
       "      <th>category</th>\n",
       "      <th>filename</th>\n",
       "    </tr>\n",
       "  </thead>\n",
       "  <tbody>\n",
       "    <tr>\n",
       "      <th>0</th>\n",
       "      <td>0</td>\n",
       "      <td>dog.12097.jpg</td>\n",
       "    </tr>\n",
       "    <tr>\n",
       "      <th>1</th>\n",
       "      <td>0</td>\n",
       "      <td>dog.7536.jpg</td>\n",
       "    </tr>\n",
       "    <tr>\n",
       "      <th>2</th>\n",
       "      <td>1</td>\n",
       "      <td>cat.3501.jpg</td>\n",
       "    </tr>\n",
       "    <tr>\n",
       "      <th>3</th>\n",
       "      <td>1</td>\n",
       "      <td>cat.12182.jpg</td>\n",
       "    </tr>\n",
       "    <tr>\n",
       "      <th>4</th>\n",
       "      <td>0</td>\n",
       "      <td>dog.1021.jpg</td>\n",
       "    </tr>\n",
       "  </tbody>\n",
       "</table>\n",
       "</div>"
      ],
      "text/plain": [
       "   category       filename\n",
       "0         0  dog.12097.jpg\n",
       "1         0   dog.7536.jpg\n",
       "2         1   cat.3501.jpg\n",
       "3         1  cat.12182.jpg\n",
       "4         0   dog.1021.jpg"
      ]
     },
     "execution_count": 3,
     "metadata": {},
     "output_type": "execute_result"
    }
   ],
   "source": [
    "df.head(5)"
   ]
  },
  {
   "cell_type": "code",
   "execution_count": 4,
   "metadata": {},
   "outputs": [
    {
     "data": {
      "text/plain": [
       "category    object\n",
       "filename    object\n",
       "dtype: object"
      ]
     },
     "execution_count": 4,
     "metadata": {},
     "output_type": "execute_result"
    }
   ],
   "source": [
    "df.category=df.category.astype('str')\n",
    "df.dtypes"
   ]
  },
  {
   "cell_type": "code",
   "execution_count": 5,
   "metadata": {},
   "outputs": [
    {
     "name": "stdout",
     "output_type": "stream",
     "text": [
      "  category       filename\n",
      "0        0  dog.12097.jpg\n",
      "1        0   dog.7536.jpg\n",
      "2        1   cat.3501.jpg\n",
      "3        1  cat.12182.jpg\n",
      "4        0   dog.1021.jpg\n"
     ]
    },
    {
     "data": {
      "text/plain": [
       "0    12500\n",
       "1    12500\n",
       "Name: category, dtype: int64"
      ]
     },
     "execution_count": 5,
     "metadata": {},
     "output_type": "execute_result"
    }
   ],
   "source": [
    "print(df.head())\n",
    "df.category.value_counts()"
   ]
  },
  {
   "cell_type": "code",
   "execution_count": 6,
   "metadata": {},
   "outputs": [
    {
     "name": "stderr",
     "output_type": "stream",
     "text": [
      "Using TensorFlow backend.\n"
     ]
    },
    {
     "data": {
      "text/plain": [
       "<matplotlib.image.AxesImage at 0x7fc53d590198>"
      ]
     },
     "execution_count": 6,
     "metadata": {},
     "output_type": "execute_result"
    },
    {
     "data": {
      "image/png": "[encoded data removed]",
      "text/plain": [
       "<Figure size 432x288 with 1 Axes>"
      ]
     },
     "metadata": {
      "needs_background": "light"
     },
     "output_type": "display_data"
    }
   ],
   "source": [
    "from keras.preprocessing.image import ImageDataGenerator, load_img\n",
    "import random\n",
    "import matplotlib.pyplot as plt\n",
    "%matplotlib inline\n",
    "\n",
    "sample = random.choice(filenames)\n",
    "image = load_img(\"/home/cslab/Desktop/2nd_ML/data/train/\"+sample)\n",
    "plt.imshow(image)"
   ]
  },
  {
   "cell_type": "code",
   "execution_count": 7,
   "metadata": {},
   "outputs": [],
   "source": [
    "from sklearn.model_selection import train_test_split\n",
    "train_df, validate_df = train_test_split(df, test_size=0.20, random_state=42)\n",
    "train_df = train_df.reset_index(drop=True)\n",
    "validate_df = validate_df.reset_index(drop=True)"
   ]
  },
  {
   "cell_type": "code",
   "execution_count": 8,
   "metadata": {},
   "outputs": [
    {
     "data": {
      "text/plain": [
       "1    2541\n",
       "0    2459\n",
       "Name: category, dtype: int64"
      ]
     },
     "execution_count": 8,
     "metadata": {},
     "output_type": "execute_result"
    }
   ],
   "source": [
    "train_df['category'].value_counts()\n",
    "validate_df['category'].value_counts()"
   ]
  },
  {
   "cell_type": "code",
   "execution_count": 9,
   "metadata": {},
   "outputs": [
    {
     "name": "stdout",
     "output_type": "stream",
     "text": [
      "Found 20000 validated image filenames belonging to 2 classes.\n"
     ]
    }
   ],
   "source": [
    "train_datagen = ImageDataGenerator(\n",
    "    rotation_range=15,\n",
    "    rescale=1./255,\n",
    "    shear_range=0.1,\n",
    "    zoom_range=0.2,\n",
    "    horizontal_flip=True,\n",
    "    width_shift_range=0.1,\n",
    "    height_shift_range=0.1\n",
    ")\n",
    "\n",
    "train_generator = train_datagen.flow_from_dataframe(\n",
    "    train_df, \n",
    "    \"/home/cslab/Desktop/2nd_ML/data/train/\", \n",
    "    x_col='filename',\n",
    "    y_col='category',\n",
    "    target_size=(150,150),\n",
    "    class_mode='binary',\n",
    "    batch_size=15\n",
    ")"
   ]
  },
  {
   "cell_type": "code",
   "execution_count": 10,
   "metadata": {},
   "outputs": [
    {
     "name": "stdout",
     "output_type": "stream",
     "text": [
      "Found 5000 validated image filenames belonging to 2 classes.\n"
     ]
    }
   ],
   "source": [
    "validation_datagen = ImageDataGenerator(rescale=1./255)\n",
    "validation_generator = validation_datagen.flow_from_dataframe(\n",
    "    validate_df, \n",
    "    \"/home/cslab/Desktop/2nd_ML/data/train/\", \n",
    "    x_col='filename',\n",
    "    y_col='category',\n",
    "    target_size=(150,150),\n",
    "    class_mode='binary',\n",
    "    batch_size=15\n",
    ")"
   ]
  },
  {
   "cell_type": "code",
   "execution_count": 11,
   "metadata": {},
   "outputs": [],
   "source": [
    "from keras.applications import VGG16\n",
    "conv_base = VGG16(weights='imagenet', \n",
    "                  include_top=False,\n",
    "                  input_shape=(150, 150, 3))\n",
    "\n",
    "from keras import models \n",
    "from keras import layers\n",
    "model = models.Sequential() \n",
    "model.add(conv_base) \n",
    "model.add(layers.Flatten())\n",
    "model.add(layers.Dense(256, activation='relu')) \n",
    "model.add(layers.Dense(1, activation='sigmoid'))"
   ]
  },
  {
   "cell_type": "code",
   "execution_count": 12,
   "metadata": {},
   "outputs": [
    {
     "data": {
      "text/plain": [
       "19"
      ]
     },
     "execution_count": 12,
     "metadata": {},
     "output_type": "execute_result"
    }
   ],
   "source": [
    "#fine tuning last 4 layers\n",
    "conv_base.trainable=True\n",
    "len(conv_base.layers)\n"
   ]
  },
  {
   "cell_type": "code",
   "execution_count": 13,
   "metadata": {},
   "outputs": [],
   "source": [
    "for i in range(0,15):\n",
    "    conv_base.layers[i].trainable=False\n",
    "\n",
    "for i in range(15,19):\n",
    "    conv_base.layers[i].trainable=True"
   ]
  },
  {
   "cell_type": "code",
   "execution_count": 14,
   "metadata": {},
   "outputs": [
    {
     "name": "stdout",
     "output_type": "stream",
     "text": [
      "False\n",
      "False\n",
      "False\n",
      "False\n",
      "False\n",
      "False\n",
      "False\n",
      "False\n",
      "False\n",
      "False\n",
      "False\n",
      "False\n",
      "False\n",
      "False\n",
      "False\n",
      "True\n",
      "True\n",
      "True\n",
      "True\n"
     ]
    }
   ],
   "source": [
    "for i in range(0,19):\n",
    "    print(conv_base.layers[i].trainable)"
   ]
  },
  {
   "cell_type": "code",
   "execution_count": 15,
   "metadata": {},
   "outputs": [],
   "source": [
    "from keras import optimizers\n",
    "model.compile(loss='binary_crossentropy', \n",
    "              optimizer=optimizers.RMSprop(lr=1e-5), \n",
    "              metrics=['acc'])"
   ]
  },
  {
   "cell_type": "code",
   "execution_count": 16,
   "metadata": {
    "scrolled": true
   },
   "outputs": [
    {
     "name": "stdout",
     "output_type": "stream",
     "text": [
      "Epoch 1/100\n",
      "100/100 [==============================] - 13s 127ms/step - loss: 0.5096 - acc: 0.7527 - val_loss: 0.3380 - val_acc: 0.8627\n",
      "Epoch 2/100\n",
      "100/100 [==============================] - 11s 106ms/step - loss: 0.3567 - acc: 0.8300 - val_loss: 0.2562 - val_acc: 0.8867\n",
      "Epoch 3/100\n",
      "100/100 [==============================] - 11s 106ms/step - loss: 0.3061 - acc: 0.8753 - val_loss: 0.2734 - val_acc: 0.8853\n",
      "Epoch 4/100\n",
      "100/100 [==============================] - 11s 106ms/step - loss: 0.2522 - acc: 0.9033 - val_loss: 0.2188 - val_acc: 0.9133\n",
      "Epoch 5/100\n",
      "100/100 [==============================] - 11s 106ms/step - loss: 0.2730 - acc: 0.8840 - val_loss: 0.2637 - val_acc: 0.8947\n",
      "Epoch 6/100\n",
      "100/100 [==============================] - 11s 106ms/step - loss: 0.2407 - acc: 0.8987 - val_loss: 0.2148 - val_acc: 0.9147\n",
      "Epoch 7/100\n",
      "100/100 [==============================] - 11s 110ms/step - loss: 0.2511 - acc: 0.8953 - val_loss: 0.2284 - val_acc: 0.8973\n",
      "Epoch 8/100\n",
      "100/100 [==============================] - 11s 107ms/step - loss: 0.2089 - acc: 0.9187 - val_loss: 0.1667 - val_acc: 0.9347\n",
      "Epoch 9/100\n",
      "100/100 [==============================] - 11s 107ms/step - loss: 0.2162 - acc: 0.9100 - val_loss: 0.1500 - val_acc: 0.9453\n",
      "Epoch 10/100\n",
      "100/100 [==============================] - 11s 108ms/step - loss: 0.2176 - acc: 0.9060 - val_loss: 0.2021 - val_acc: 0.9160\n",
      "Epoch 11/100\n",
      "100/100 [==============================] - 11s 109ms/step - loss: 0.1906 - acc: 0.9253 - val_loss: 0.2100 - val_acc: 0.9280\n",
      "Epoch 12/100\n",
      "100/100 [==============================] - 11s 107ms/step - loss: 0.2078 - acc: 0.9133 - val_loss: 0.1863 - val_acc: 0.9187\n",
      "Epoch 13/100\n",
      "100/100 [==============================] - 11s 107ms/step - loss: 0.2189 - acc: 0.9047 - val_loss: 0.1775 - val_acc: 0.9320\n",
      "Epoch 14/100\n",
      "100/100 [==============================] - 11s 112ms/step - loss: 0.1979 - acc: 0.9127 - val_loss: 0.2232 - val_acc: 0.9095\n",
      "Epoch 15/100\n",
      "100/100 [==============================] - 11s 107ms/step - loss: 0.1882 - acc: 0.9167 - val_loss: 0.1345 - val_acc: 0.9373\n",
      "Epoch 16/100\n",
      "100/100 [==============================] - 11s 108ms/step - loss: 0.1796 - acc: 0.9147 - val_loss: 0.1726 - val_acc: 0.9453\n",
      "Epoch 17/100\n",
      "100/100 [==============================] - 11s 106ms/step - loss: 0.2031 - acc: 0.9187 - val_loss: 0.2699 - val_acc: 0.8960\n",
      "Epoch 18/100\n",
      "100/100 [==============================] - 11s 108ms/step - loss: 0.2032 - acc: 0.9133 - val_loss: 0.1691 - val_acc: 0.9267\n",
      "Epoch 19/100\n",
      "100/100 [==============================] - 11s 107ms/step - loss: 0.1740 - acc: 0.9300 - val_loss: 0.1973 - val_acc: 0.9147\n",
      "Epoch 20/100\n",
      "100/100 [==============================] - 11s 107ms/step - loss: 0.1437 - acc: 0.9467 - val_loss: 0.1478 - val_acc: 0.9373\n",
      "Epoch 21/100\n",
      "100/100 [==============================] - 11s 108ms/step - loss: 0.2026 - acc: 0.9253 - val_loss: 0.1768 - val_acc: 0.9351\n",
      "Epoch 22/100\n",
      "100/100 [==============================] - 11s 108ms/step - loss: 0.1559 - acc: 0.9300 - val_loss: 0.1791 - val_acc: 0.9307\n",
      "Epoch 23/100\n",
      "100/100 [==============================] - 11s 107ms/step - loss: 0.1414 - acc: 0.9393 - val_loss: 0.1330 - val_acc: 0.9427\n",
      "Epoch 24/100\n",
      "100/100 [==============================] - 11s 107ms/step - loss: 0.1776 - acc: 0.9333 - val_loss: 0.1689 - val_acc: 0.9293\n",
      "Epoch 25/100\n",
      "100/100 [==============================] - 11s 107ms/step - loss: 0.1619 - acc: 0.9340 - val_loss: 0.1448 - val_acc: 0.9320\n",
      "Epoch 26/100\n",
      "100/100 [==============================] - 11s 106ms/step - loss: 0.1882 - acc: 0.9147 - val_loss: 0.1479 - val_acc: 0.9347\n",
      "Epoch 27/100\n",
      "100/100 [==============================] - 11s 108ms/step - loss: 0.1635 - acc: 0.9273 - val_loss: 0.1232 - val_acc: 0.9541\n",
      "Epoch 28/100\n",
      "100/100 [==============================] - 10s 103ms/step - loss: 0.1520 - acc: 0.9380 - val_loss: 0.1439 - val_acc: 0.9507\n",
      "Epoch 29/100\n",
      "100/100 [==============================] - 10s 103ms/step - loss: 0.1538 - acc: 0.9413 - val_loss: 0.1228 - val_acc: 0.9493\n",
      "Epoch 30/100\n",
      "100/100 [==============================] - 10s 103ms/step - loss: 0.1670 - acc: 0.9380 - val_loss: 0.1410 - val_acc: 0.9427\n",
      "Epoch 31/100\n",
      "100/100 [==============================] - 10s 103ms/step - loss: 0.1525 - acc: 0.9387 - val_loss: 0.1465 - val_acc: 0.9413\n",
      "Epoch 32/100\n",
      "100/100 [==============================] - 10s 103ms/step - loss: 0.1473 - acc: 0.9353 - val_loss: 0.1933 - val_acc: 0.9240\n",
      "Epoch 33/100\n",
      "100/100 [==============================] - 10s 103ms/step - loss: 0.1538 - acc: 0.9380 - val_loss: 0.1364 - val_acc: 0.9613\n",
      "Epoch 34/100\n",
      "100/100 [==============================] - 10s 104ms/step - loss: 0.1473 - acc: 0.9387 - val_loss: 0.2434 - val_acc: 0.9135\n",
      "Epoch 35/100\n",
      "100/100 [==============================] - 10s 103ms/step - loss: 0.1544 - acc: 0.9420 - val_loss: 0.1524 - val_acc: 0.9413\n",
      "Epoch 36/100\n",
      "100/100 [==============================] - 10s 103ms/step - loss: 0.1243 - acc: 0.9533 - val_loss: 0.1854 - val_acc: 0.9320\n",
      "Epoch 37/100\n",
      "100/100 [==============================] - 10s 102ms/step - loss: 0.1197 - acc: 0.9487 - val_loss: 0.1619 - val_acc: 0.9520\n",
      "Epoch 38/100\n",
      "100/100 [==============================] - 10s 103ms/step - loss: 0.1580 - acc: 0.9393 - val_loss: 0.1319 - val_acc: 0.9493\n",
      "Epoch 39/100\n",
      "100/100 [==============================] - 10s 103ms/step - loss: 0.1325 - acc: 0.9527 - val_loss: 0.1355 - val_acc: 0.9547\n",
      "Epoch 40/100\n",
      "100/100 [==============================] - 10s 103ms/step - loss: 0.1314 - acc: 0.9513 - val_loss: 0.1146 - val_acc: 0.9493\n",
      "Epoch 41/100\n",
      "100/100 [==============================] - 11s 111ms/step - loss: 0.1236 - acc: 0.9533 - val_loss: 0.1581 - val_acc: 0.9392\n",
      "Epoch 42/100\n",
      "100/100 [==============================] - 10s 103ms/step - loss: 0.1319 - acc: 0.9433 - val_loss: 0.1325 - val_acc: 0.9547\n",
      "Epoch 43/100\n",
      "100/100 [==============================] - 10s 103ms/step - loss: 0.1140 - acc: 0.9573 - val_loss: 0.1998 - val_acc: 0.9293\n",
      "Epoch 44/100\n",
      "100/100 [==============================] - 10s 103ms/step - loss: 0.1246 - acc: 0.9520 - val_loss: 0.1518 - val_acc: 0.9387\n",
      "Epoch 45/100\n",
      "100/100 [==============================] - 10s 103ms/step - loss: 0.1152 - acc: 0.9453 - val_loss: 0.1222 - val_acc: 0.9453\n",
      "Epoch 46/100\n",
      "100/100 [==============================] - 10s 103ms/step - loss: 0.1538 - acc: 0.9387 - val_loss: 0.1646 - val_acc: 0.9347\n",
      "Epoch 47/100\n",
      "100/100 [==============================] - 10s 104ms/step - loss: 0.1357 - acc: 0.9473 - val_loss: 0.1005 - val_acc: 0.9608\n",
      "Epoch 48/100\n",
      "100/100 [==============================] - 10s 103ms/step - loss: 0.1527 - acc: 0.9427 - val_loss: 0.1780 - val_acc: 0.9347\n",
      "Epoch 49/100\n",
      "100/100 [==============================] - 10s 103ms/step - loss: 0.1375 - acc: 0.9460 - val_loss: 0.1312 - val_acc: 0.9547\n",
      "Epoch 50/100\n",
      "100/100 [==============================] - 10s 104ms/step - loss: 0.1283 - acc: 0.9460 - val_loss: 0.1326 - val_acc: 0.9520\n",
      "Epoch 51/100\n",
      "100/100 [==============================] - 10s 102ms/step - loss: 0.1403 - acc: 0.9433 - val_loss: 0.1044 - val_acc: 0.9653\n",
      "Epoch 52/100\n",
      "100/100 [==============================] - 10s 104ms/step - loss: 0.1273 - acc: 0.9460 - val_loss: 0.1362 - val_acc: 0.9480\n",
      "Epoch 53/100\n",
      "100/100 [==============================] - 10s 103ms/step - loss: 0.1331 - acc: 0.9533 - val_loss: 0.1249 - val_acc: 0.9547\n",
      "Epoch 54/100\n",
      "100/100 [==============================] - 11s 109ms/step - loss: 0.1111 - acc: 0.9533 - val_loss: 0.1593 - val_acc: 0.9473\n",
      "Epoch 55/100\n",
      "100/100 [==============================] - 10s 104ms/step - loss: 0.1066 - acc: 0.9627 - val_loss: 0.1599 - val_acc: 0.9467\n",
      "Epoch 56/100\n",
      "100/100 [==============================] - 10s 104ms/step - loss: 0.1171 - acc: 0.9553 - val_loss: 0.1224 - val_acc: 0.9507\n",
      "Epoch 57/100\n",
      "100/100 [==============================] - 10s 104ms/step - loss: 0.1223 - acc: 0.9560 - val_loss: 0.1218 - val_acc: 0.9520\n",
      "Epoch 58/100\n",
      "100/100 [==============================] - 10s 104ms/step - loss: 0.1136 - acc: 0.9500 - val_loss: 0.1307 - val_acc: 0.9520\n",
      "Epoch 59/100\n",
      "100/100 [==============================] - 10s 105ms/step - loss: 0.1189 - acc: 0.9480 - val_loss: 0.1530 - val_acc: 0.9360\n",
      "Epoch 60/100\n",
      "100/100 [==============================] - 10s 104ms/step - loss: 0.1194 - acc: 0.9560 - val_loss: 0.1373 - val_acc: 0.9520\n"
     ]
    },
    {
     "name": "stdout",
     "output_type": "stream",
     "text": [
      "Epoch 61/100\n",
      "100/100 [==============================] - 10s 104ms/step - loss: 0.1202 - acc: 0.9473 - val_loss: 0.0954 - val_acc: 0.9581\n",
      "Epoch 62/100\n",
      "100/100 [==============================] - 10s 102ms/step - loss: 0.1374 - acc: 0.9467 - val_loss: 0.1687 - val_acc: 0.9347\n",
      "Epoch 63/100\n",
      "100/100 [==============================] - 10s 103ms/step - loss: 0.1144 - acc: 0.9533 - val_loss: 0.1331 - val_acc: 0.9600\n",
      "Epoch 64/100\n",
      "100/100 [==============================] - 10s 102ms/step - loss: 0.1189 - acc: 0.9533 - val_loss: 0.1020 - val_acc: 0.9587\n",
      "Epoch 65/100\n",
      "100/100 [==============================] - 10s 103ms/step - loss: 0.1204 - acc: 0.9500 - val_loss: 0.1147 - val_acc: 0.9560\n",
      "Epoch 66/100\n",
      "100/100 [==============================] - 10s 103ms/step - loss: 0.1262 - acc: 0.9540 - val_loss: 0.1316 - val_acc: 0.9560\n",
      "Epoch 67/100\n",
      "100/100 [==============================] - 11s 105ms/step - loss: 0.1175 - acc: 0.9527 - val_loss: 0.1441 - val_acc: 0.9514\n",
      "Epoch 68/100\n",
      "100/100 [==============================] - 10s 103ms/step - loss: 0.1073 - acc: 0.9547 - val_loss: 0.1261 - val_acc: 0.9587\n",
      "Epoch 69/100\n",
      "100/100 [==============================] - 10s 103ms/step - loss: 0.1085 - acc: 0.9567 - val_loss: 0.2798 - val_acc: 0.9120\n",
      "Epoch 70/100\n",
      "100/100 [==============================] - 10s 103ms/step - loss: 0.1321 - acc: 0.9480 - val_loss: 0.1297 - val_acc: 0.9520\n",
      "Epoch 71/100\n",
      "100/100 [==============================] - 10s 103ms/step - loss: 0.1089 - acc: 0.9587 - val_loss: 0.1046 - val_acc: 0.9640\n",
      "Epoch 72/100\n",
      "100/100 [==============================] - 10s 103ms/step - loss: 0.0969 - acc: 0.9627 - val_loss: 0.2006 - val_acc: 0.9293\n",
      "Epoch 73/100\n",
      "100/100 [==============================] - 10s 103ms/step - loss: 0.0909 - acc: 0.9640 - val_loss: 0.1269 - val_acc: 0.9507\n",
      "Epoch 74/100\n",
      "100/100 [==============================] - 10s 104ms/step - loss: 0.1013 - acc: 0.9587 - val_loss: 0.1197 - val_acc: 0.9554\n",
      "Epoch 75/100\n",
      "100/100 [==============================] - 10s 103ms/step - loss: 0.1132 - acc: 0.9567 - val_loss: 0.1311 - val_acc: 0.9493\n",
      "Epoch 76/100\n",
      "100/100 [==============================] - 10s 103ms/step - loss: 0.1072 - acc: 0.9613 - val_loss: 0.1194 - val_acc: 0.9533\n",
      "Epoch 77/100\n",
      "100/100 [==============================] - 10s 103ms/step - loss: 0.1084 - acc: 0.9547 - val_loss: 0.1090 - val_acc: 0.9573\n",
      "Epoch 78/100\n",
      "100/100 [==============================] - 10s 103ms/step - loss: 0.1018 - acc: 0.9593 - val_loss: 0.1903 - val_acc: 0.9427\n",
      "Epoch 79/100\n",
      "100/100 [==============================] - 10s 103ms/step - loss: 0.0958 - acc: 0.9640 - val_loss: 0.1046 - val_acc: 0.9573\n",
      "Epoch 80/100\n",
      "100/100 [==============================] - 10s 102ms/step - loss: 0.1230 - acc: 0.9493 - val_loss: 0.0786 - val_acc: 0.9693\n",
      "Epoch 81/100\n",
      "100/100 [==============================] - 11s 111ms/step - loss: 0.1102 - acc: 0.9513 - val_loss: 0.1445 - val_acc: 0.9473\n",
      "Epoch 82/100\n",
      "100/100 [==============================] - 10s 102ms/step - loss: 0.1258 - acc: 0.9527 - val_loss: 0.1149 - val_acc: 0.9560\n",
      "Epoch 83/100\n",
      "100/100 [==============================] - 10s 102ms/step - loss: 0.0988 - acc: 0.9613 - val_loss: 0.1500 - val_acc: 0.9387\n",
      "Epoch 84/100\n",
      "100/100 [==============================] - 10s 103ms/step - loss: 0.0911 - acc: 0.9607 - val_loss: 0.0941 - val_acc: 0.9613\n",
      "Epoch 85/100\n",
      "100/100 [==============================] - 10s 103ms/step - loss: 0.1066 - acc: 0.9647 - val_loss: 0.0736 - val_acc: 0.9747\n",
      "Epoch 86/100\n",
      "100/100 [==============================] - 10s 103ms/step - loss: 0.1239 - acc: 0.9553 - val_loss: 0.0944 - val_acc: 0.9573\n",
      "Epoch 87/100\n",
      "100/100 [==============================] - 10s 104ms/step - loss: 0.1024 - acc: 0.9593 - val_loss: 0.1295 - val_acc: 0.9459\n",
      "Epoch 88/100\n",
      "100/100 [==============================] - 10s 103ms/step - loss: 0.1023 - acc: 0.9653 - val_loss: 0.1603 - val_acc: 0.9400\n",
      "Epoch 89/100\n",
      "100/100 [==============================] - 10s 104ms/step - loss: 0.0823 - acc: 0.9673 - val_loss: 0.1127 - val_acc: 0.9600\n",
      "Epoch 90/100\n",
      "100/100 [==============================] - 10s 103ms/step - loss: 0.1007 - acc: 0.9633 - val_loss: 0.1331 - val_acc: 0.9613\n",
      "Epoch 91/100\n",
      "100/100 [==============================] - 10s 103ms/step - loss: 0.0982 - acc: 0.9580 - val_loss: 0.1220 - val_acc: 0.9560\n",
      "Epoch 92/100\n",
      "100/100 [==============================] - 10s 103ms/step - loss: 0.1053 - acc: 0.9587 - val_loss: 0.1636 - val_acc: 0.9453\n",
      "Epoch 93/100\n",
      "100/100 [==============================] - 10s 104ms/step - loss: 0.1032 - acc: 0.9533 - val_loss: 0.1211 - val_acc: 0.9533\n",
      "Epoch 94/100\n",
      "100/100 [==============================] - 11s 108ms/step - loss: 0.0973 - acc: 0.9600 - val_loss: 0.1437 - val_acc: 0.9500\n",
      "Epoch 95/100\n",
      "100/100 [==============================] - 10s 103ms/step - loss: 0.0973 - acc: 0.9660 - val_loss: 0.1117 - val_acc: 0.9653\n",
      "Epoch 96/100\n",
      "100/100 [==============================] - 10s 103ms/step - loss: 0.0747 - acc: 0.9713 - val_loss: 0.1351 - val_acc: 0.9507\n",
      "Epoch 97/100\n",
      "100/100 [==============================] - 10s 102ms/step - loss: 0.0814 - acc: 0.9627 - val_loss: 0.0772 - val_acc: 0.9747\n",
      "Epoch 98/100\n",
      "100/100 [==============================] - 10s 103ms/step - loss: 0.0736 - acc: 0.9720 - val_loss: 0.1361 - val_acc: 0.9493\n",
      "Epoch 99/100\n",
      "100/100 [==============================] - 10s 102ms/step - loss: 0.0933 - acc: 0.9673 - val_loss: 0.1346 - val_acc: 0.9547\n",
      "Epoch 100/100\n",
      "100/100 [==============================] - 10s 103ms/step - loss: 0.0849 - acc: 0.9687 - val_loss: 0.1394 - val_acc: 0.9480\n"
     ]
    }
   ],
   "source": [
    "history = model.fit_generator( \n",
    "    train_generator, \n",
    "    steps_per_epoch=100, \n",
    "    epochs=100,\n",
    "    validation_data=validation_generator, \n",
    "    validation_steps=50)"
   ]
  },
  {
   "cell_type": "code",
   "execution_count": 28,
   "metadata": {},
   "outputs": [
    {
     "name": "stdout",
     "output_type": "stream",
     "text": [
      "Test: accuracy = 0.955973  ;  loss = 0.121235 \n"
     ]
    }
   ],
   "source": [
    "loss, accuracy = model.evaluate_generator(validation_generator, train_generator.samples // 15)\n",
    "print(\"Test: accuracy = %f  ;  loss = %f \" % (accuracy, loss))"
   ]
  },
  {
   "cell_type": "code",
   "execution_count": 18,
   "metadata": {},
   "outputs": [],
   "source": [
    "model.save('model-VGG160818.h5')"
   ]
  },
  {
   "cell_type": "code",
   "execution_count": 29,
   "metadata": {},
   "outputs": [
    {
     "data": {
      "text/html": [
       "<div>\n",
       "<style scoped>\n",
       "    .dataframe tbody tr th:only-of-type {\n",
       "        vertical-align: middle;\n",
       "    }\n",
       "\n",
       "    .dataframe tbody tr th {\n",
       "        vertical-align: top;\n",
       "    }\n",
       "\n",
       "    .dataframe thead th {\n",
       "        text-align: right;\n",
       "    }\n",
       "</style>\n",
       "<table border=\"1\" class=\"dataframe\">\n",
       "  <thead>\n",
       "    <tr style=\"text-align: right;\">\n",
       "      <th></th>\n",
       "      <th>filename</th>\n",
       "    </tr>\n",
       "  </thead>\n",
       "  <tbody>\n",
       "    <tr>\n",
       "      <th>0</th>\n",
       "      <td>363.jpg</td>\n",
       "    </tr>\n",
       "    <tr>\n",
       "      <th>1</th>\n",
       "      <td>091.jpg</td>\n",
       "    </tr>\n",
       "    <tr>\n",
       "      <th>2</th>\n",
       "      <td>194.jpg</td>\n",
       "    </tr>\n",
       "    <tr>\n",
       "      <th>3</th>\n",
       "      <td>245.jpg</td>\n",
       "    </tr>\n",
       "    <tr>\n",
       "      <th>4</th>\n",
       "      <td>033.jpg</td>\n",
       "    </tr>\n",
       "  </tbody>\n",
       "</table>\n",
       "</div>"
      ],
      "text/plain": [
       "  filename\n",
       "0  363.jpg\n",
       "1  091.jpg\n",
       "2  194.jpg\n",
       "3  245.jpg\n",
       "4  033.jpg"
      ]
     },
     "execution_count": 29,
     "metadata": {},
     "output_type": "execute_result"
    }
   ],
   "source": [
    "test_filenames = os.listdir(\"/home/cslab/Desktop/2nd_ML/data/test\")\n",
    "test_df = pd.DataFrame({\n",
    "    'filename': test_filenames\n",
    "})\n",
    "nb_samples = test_df.shape[0]\n",
    "test_df.head()"
   ]
  },
  {
   "cell_type": "code",
   "execution_count": 30,
   "metadata": {},
   "outputs": [
    {
     "name": "stdout",
     "output_type": "stream",
     "text": [
      "Found 400 validated image filenames.\n"
     ]
    }
   ],
   "source": [
    "test_gen = ImageDataGenerator(rescale=1./255)\n",
    "test_generator = test_gen.flow_from_dataframe(\n",
    "    test_df, \n",
    "    \"/home/cslab/Desktop/2nd_ML/data/test/\", \n",
    "    x_col='filename',\n",
    "    y_col=None,\n",
    "    class_mode=None,\n",
    "    target_size=(150,150),\n",
    "    batch_size=10,\n",
    "    shuffle=False\n",
    ")"
   ]
  },
  {
   "cell_type": "markdown",
   "metadata": {},
   "source": [
    "## Predict"
   ]
  },
  {
   "cell_type": "code",
   "execution_count": 38,
   "metadata": {},
   "outputs": [],
   "source": [
    "predict = model.predict_generator(test_generator)\n",
    "\n",
    "# predict = model.predict_generator(test_generator, steps=1250)\n",
    "\n",
    "# predict = net_final.predict_generator(test_generator, steps=np.ceil(nb_samples/BATCH_SIZE))[:,1]"
   ]
  },
  {
   "cell_type": "code",
   "execution_count": 34,
   "metadata": {},
   "outputs": [
    {
     "data": {
      "text/plain": [
       "400"
      ]
     },
     "execution_count": 34,
     "metadata": {},
     "output_type": "execute_result"
    }
   ],
   "source": [
    "nb_samples"
   ]
  },
  {
   "cell_type": "code",
   "execution_count": 39,
   "metadata": {},
   "outputs": [
    {
     "data": {
      "text/plain": [
       "400"
      ]
     },
     "execution_count": 39,
     "metadata": {},
     "output_type": "execute_result"
    }
   ],
   "source": [
    "len(predict)"
   ]
  },
  {
   "cell_type": "markdown",
   "metadata": {},
   "source": [
    "## Submission"
   ]
  },
  {
   "cell_type": "code",
   "execution_count": 40,
   "metadata": {},
   "outputs": [],
   "source": [
    "test_df['Predicted'] = predict"
   ]
  },
  {
   "cell_type": "code",
   "execution_count": 41,
   "metadata": {},
   "outputs": [
    {
     "data": {
      "text/html": [
       "<div>\n",
       "<style scoped>\n",
       "    .dataframe tbody tr th:only-of-type {\n",
       "        vertical-align: middle;\n",
       "    }\n",
       "\n",
       "    .dataframe tbody tr th {\n",
       "        vertical-align: top;\n",
       "    }\n",
       "\n",
       "    .dataframe thead th {\n",
       "        text-align: right;\n",
       "    }\n",
       "</style>\n",
       "<table border=\"1\" class=\"dataframe\">\n",
       "  <thead>\n",
       "    <tr style=\"text-align: right;\">\n",
       "      <th></th>\n",
       "      <th>filename</th>\n",
       "      <th>Predicted</th>\n",
       "    </tr>\n",
       "  </thead>\n",
       "  <tbody>\n",
       "    <tr>\n",
       "      <th>0</th>\n",
       "      <td>363.jpg</td>\n",
       "      <td>4.773809e-07</td>\n",
       "    </tr>\n",
       "    <tr>\n",
       "      <th>1</th>\n",
       "      <td>091.jpg</td>\n",
       "      <td>2.023630e-08</td>\n",
       "    </tr>\n",
       "    <tr>\n",
       "      <th>2</th>\n",
       "      <td>194.jpg</td>\n",
       "      <td>2.198821e-05</td>\n",
       "    </tr>\n",
       "    <tr>\n",
       "      <th>3</th>\n",
       "      <td>245.jpg</td>\n",
       "      <td>5.474653e-01</td>\n",
       "    </tr>\n",
       "    <tr>\n",
       "      <th>4</th>\n",
       "      <td>033.jpg</td>\n",
       "      <td>9.999430e-01</td>\n",
       "    </tr>\n",
       "    <tr>\n",
       "      <th>5</th>\n",
       "      <td>155.jpg</td>\n",
       "      <td>9.608791e-01</td>\n",
       "    </tr>\n",
       "    <tr>\n",
       "      <th>6</th>\n",
       "      <td>303.jpg</td>\n",
       "      <td>6.856655e-09</td>\n",
       "    </tr>\n",
       "    <tr>\n",
       "      <th>7</th>\n",
       "      <td>224.jpg</td>\n",
       "      <td>1.000000e+00</td>\n",
       "    </tr>\n",
       "    <tr>\n",
       "      <th>8</th>\n",
       "      <td>176.jpg</td>\n",
       "      <td>1.369633e-03</td>\n",
       "    </tr>\n",
       "    <tr>\n",
       "      <th>9</th>\n",
       "      <td>131.jpg</td>\n",
       "      <td>9.426730e-15</td>\n",
       "    </tr>\n",
       "  </tbody>\n",
       "</table>\n",
       "</div>"
      ],
      "text/plain": [
       "  filename     Predicted\n",
       "0  363.jpg  4.773809e-07\n",
       "1  091.jpg  2.023630e-08\n",
       "2  194.jpg  2.198821e-05\n",
       "3  245.jpg  5.474653e-01\n",
       "4  033.jpg  9.999430e-01\n",
       "5  155.jpg  9.608791e-01\n",
       "6  303.jpg  6.856655e-09\n",
       "7  224.jpg  1.000000e+00\n",
       "8  176.jpg  1.369633e-03\n",
       "9  131.jpg  9.426730e-15"
      ]
     },
     "execution_count": 41,
     "metadata": {},
     "output_type": "execute_result"
    }
   ],
   "source": [
    "test_df.head(10)"
   ]
  },
  {
   "cell_type": "code",
   "execution_count": 42,
   "metadata": {},
   "outputs": [],
   "source": [
    "submission_df = test_df.copy()"
   ]
  },
  {
   "cell_type": "code",
   "execution_count": 43,
   "metadata": {},
   "outputs": [],
   "source": [
    "submission_df['ID'] = submission_df['filename'].str.split('.').str[0]\n",
    "submission_df.drop(['filename'], axis=1, inplace=True)\n",
    "# submission_df.to_csv('submission.csv', index=False)"
   ]
  },
  {
   "cell_type": "code",
   "execution_count": 44,
   "metadata": {},
   "outputs": [],
   "source": [
    "submission_df.sort_values('ID',inplace=True)"
   ]
  },
  {
   "cell_type": "code",
   "execution_count": 45,
   "metadata": {},
   "outputs": [],
   "source": [
    "submission_df.reset_index(drop=True, inplace=True)"
   ]
  },
  {
   "cell_type": "code",
   "execution_count": 46,
   "metadata": {},
   "outputs": [
    {
     "data": {
      "text/html": [
       "<div>\n",
       "<style scoped>\n",
       "    .dataframe tbody tr th:only-of-type {\n",
       "        vertical-align: middle;\n",
       "    }\n",
       "\n",
       "    .dataframe tbody tr th {\n",
       "        vertical-align: top;\n",
       "    }\n",
       "\n",
       "    .dataframe thead th {\n",
       "        text-align: right;\n",
       "    }\n",
       "</style>\n",
       "<table border=\"1\" class=\"dataframe\">\n",
       "  <thead>\n",
       "    <tr style=\"text-align: right;\">\n",
       "      <th></th>\n",
       "      <th>Predicted</th>\n",
       "      <th>ID</th>\n",
       "    </tr>\n",
       "  </thead>\n",
       "  <tbody>\n",
       "    <tr>\n",
       "      <th>0</th>\n",
       "      <td>9.405842e-01</td>\n",
       "      <td>000</td>\n",
       "    </tr>\n",
       "    <tr>\n",
       "      <th>1</th>\n",
       "      <td>9.989390e-01</td>\n",
       "      <td>001</td>\n",
       "    </tr>\n",
       "    <tr>\n",
       "      <th>2</th>\n",
       "      <td>1.000000e+00</td>\n",
       "      <td>002</td>\n",
       "    </tr>\n",
       "    <tr>\n",
       "      <th>3</th>\n",
       "      <td>1.618458e-08</td>\n",
       "      <td>003</td>\n",
       "    </tr>\n",
       "    <tr>\n",
       "      <th>4</th>\n",
       "      <td>9.999977e-01</td>\n",
       "      <td>004</td>\n",
       "    </tr>\n",
       "    <tr>\n",
       "      <th>5</th>\n",
       "      <td>9.999292e-01</td>\n",
       "      <td>005</td>\n",
       "    </tr>\n",
       "    <tr>\n",
       "      <th>6</th>\n",
       "      <td>4.593450e-08</td>\n",
       "      <td>006</td>\n",
       "    </tr>\n",
       "    <tr>\n",
       "      <th>7</th>\n",
       "      <td>9.987398e-01</td>\n",
       "      <td>007</td>\n",
       "    </tr>\n",
       "    <tr>\n",
       "      <th>8</th>\n",
       "      <td>9.994253e-01</td>\n",
       "      <td>008</td>\n",
       "    </tr>\n",
       "    <tr>\n",
       "      <th>9</th>\n",
       "      <td>9.999994e-01</td>\n",
       "      <td>009</td>\n",
       "    </tr>\n",
       "  </tbody>\n",
       "</table>\n",
       "</div>"
      ],
      "text/plain": [
       "      Predicted   ID\n",
       "0  9.405842e-01  000\n",
       "1  9.989390e-01  001\n",
       "2  1.000000e+00  002\n",
       "3  1.618458e-08  003\n",
       "4  9.999977e-01  004\n",
       "5  9.999292e-01  005\n",
       "6  4.593450e-08  006\n",
       "7  9.987398e-01  007\n",
       "8  9.994253e-01  008\n",
       "9  9.999994e-01  009"
      ]
     },
     "execution_count": 46,
     "metadata": {},
     "output_type": "execute_result"
    }
   ],
   "source": [
    "submission_df.head(10)"
   ]
  },
  {
   "cell_type": "code",
   "execution_count": 47,
   "metadata": {},
   "outputs": [
    {
     "data": {
      "text/html": [
       "<div>\n",
       "<style scoped>\n",
       "    .dataframe tbody tr th:only-of-type {\n",
       "        vertical-align: middle;\n",
       "    }\n",
       "\n",
       "    .dataframe tbody tr th {\n",
       "        vertical-align: top;\n",
       "    }\n",
       "\n",
       "    .dataframe thead th {\n",
       "        text-align: right;\n",
       "    }\n",
       "</style>\n",
       "<table border=\"1\" class=\"dataframe\">\n",
       "  <thead>\n",
       "    <tr style=\"text-align: right;\">\n",
       "      <th></th>\n",
       "      <th>ID</th>\n",
       "      <th>Predicted</th>\n",
       "    </tr>\n",
       "  </thead>\n",
       "  <tbody>\n",
       "    <tr>\n",
       "      <th>0</th>\n",
       "      <td>000</td>\n",
       "      <td>9.405842e-01</td>\n",
       "    </tr>\n",
       "    <tr>\n",
       "      <th>1</th>\n",
       "      <td>001</td>\n",
       "      <td>9.989390e-01</td>\n",
       "    </tr>\n",
       "    <tr>\n",
       "      <th>2</th>\n",
       "      <td>002</td>\n",
       "      <td>1.000000e+00</td>\n",
       "    </tr>\n",
       "    <tr>\n",
       "      <th>3</th>\n",
       "      <td>003</td>\n",
       "      <td>1.618458e-08</td>\n",
       "    </tr>\n",
       "    <tr>\n",
       "      <th>4</th>\n",
       "      <td>004</td>\n",
       "      <td>9.999977e-01</td>\n",
       "    </tr>\n",
       "    <tr>\n",
       "      <th>5</th>\n",
       "      <td>005</td>\n",
       "      <td>9.999292e-01</td>\n",
       "    </tr>\n",
       "    <tr>\n",
       "      <th>6</th>\n",
       "      <td>006</td>\n",
       "      <td>4.593450e-08</td>\n",
       "    </tr>\n",
       "    <tr>\n",
       "      <th>7</th>\n",
       "      <td>007</td>\n",
       "      <td>9.987398e-01</td>\n",
       "    </tr>\n",
       "    <tr>\n",
       "      <th>8</th>\n",
       "      <td>008</td>\n",
       "      <td>9.994253e-01</td>\n",
       "    </tr>\n",
       "    <tr>\n",
       "      <th>9</th>\n",
       "      <td>009</td>\n",
       "      <td>9.999994e-01</td>\n",
       "    </tr>\n",
       "  </tbody>\n",
       "</table>\n",
       "</div>"
      ],
      "text/plain": [
       "    ID     Predicted\n",
       "0  000  9.405842e-01\n",
       "1  001  9.989390e-01\n",
       "2  002  1.000000e+00\n",
       "3  003  1.618458e-08\n",
       "4  004  9.999977e-01\n",
       "5  005  9.999292e-01\n",
       "6  006  4.593450e-08\n",
       "7  007  9.987398e-01\n",
       "8  008  9.994253e-01\n",
       "9  009  9.999994e-01"
      ]
     },
     "execution_count": 47,
     "metadata": {},
     "output_type": "execute_result"
    }
   ],
   "source": [
    "submission_df = submission_df[['ID','Predicted']]\n",
    "submission_df.head(10)"
   ]
  },
  {
   "cell_type": "code",
   "execution_count": 48,
   "metadata": {},
   "outputs": [],
   "source": [
    "submission_df.to_csv('submission.csv', index=False)"
   ]
  },
  {
   "cell_type": "code",
   "execution_count": null,
   "metadata": {},
   "outputs": [],
   "source": []
  },
  {
   "cell_type": "code",
   "execution_count": null,
   "metadata": {},
   "outputs": [],
   "source": []
  },
  {
   "cell_type": "code",
   "execution_count": null,
   "metadata": {},
   "outputs": [],
   "source": []
  },
  {
   "cell_type": "code",
   "execution_count": null,
   "metadata": {},
   "outputs": [],
   "source": []
  }
 ],
 "metadata": {
  "kernelspec": {
   "display_name": "Python 3",
   "language": "python",
   "name": "python3"
  },
  "language_info": {
   "codemirror_mode": {
    "name": "ipython",
    "version": 3
   },
   "file_extension": ".py",
   "mimetype": "text/x-python",
   "name": "python",
   "nbconvert_exporter": "python",
   "pygments_lexer": "ipython3",
   "version": "3.5.2"
  }
 },
 "nbformat": 4,
 "nbformat_minor": 2
}
