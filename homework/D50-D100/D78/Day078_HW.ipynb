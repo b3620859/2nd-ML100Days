{
 "cells": [
  {
   "cell_type": "markdown",
   "metadata": {
    "colab_type": "text",
    "id": "W_veXFdUi7Ju"
   },
   "source": [
    "## Work\n",
    "1. 請嘗試將 preproc_x 替換成以每筆資料的 min/max 進行標準化至 -1 ~ 1 間，再進行訓練\n",
    "2. 請嘗試將 mlp 疊更深 (e.g 5~10 層)，進行訓練後觀察 learning curve 的走勢\n",
    "3. (optional) 請改用 GPU 進行訓練 (如果你有 GPU 的話)，比較使用 CPU 與 GPU 的訓練速度"
   ]
  },
  {
   "cell_type": "code",
   "execution_count": 1,
   "metadata": {
    "colab": {
     "base_uri": "https://localhost:8080/",
     "height": 153
    },
    "colab_type": "code",
    "executionInfo": {
     "elapsed": 5361,
     "status": "ok",
     "timestamp": 1563880610592,
     "user": {
      "displayName": "林建宏",
      "photoUrl": "",
      "userId": "12416564836120847438"
     },
     "user_tz": -480
    },
    "id": "fICVxysli_99",
    "outputId": "c20329bf-3bb0-4308-a567-68473b0f3726"
   },
   "outputs": [
    {
     "name": "stdout",
     "output_type": "stream",
     "text": [
      "Requirement already satisfied: keras in /usr/local/lib/python3.6/dist-packages (2.2.4)\n",
      "Requirement already satisfied: keras-preprocessing>=1.0.5 in /usr/local/lib/python3.6/dist-packages (from keras) (1.1.0)\n",
      "Requirement already satisfied: numpy>=1.9.1 in /usr/local/lib/python3.6/dist-packages (from keras) (1.16.4)\n",
      "Requirement already satisfied: pyyaml in /usr/local/lib/python3.6/dist-packages (from keras) (3.13)\n",
      "Requirement already satisfied: h5py in /usr/local/lib/python3.6/dist-packages (from keras) (2.8.0)\n",
      "Requirement already satisfied: scipy>=0.14 in /usr/local/lib/python3.6/dist-packages (from keras) (1.3.0)\n",
      "Requirement already satisfied: six>=1.9.0 in /usr/local/lib/python3.6/dist-packages (from keras) (1.12.0)\n",
      "Requirement already satisfied: keras-applications>=1.0.6 in /usr/local/lib/python3.6/dist-packages (from keras) (1.0.8)\n"
     ]
    }
   ],
   "source": [
    "!pip install keras"
   ]
  },
  {
   "cell_type": "code",
   "execution_count": 2,
   "metadata": {
    "colab": {
     "base_uri": "https://localhost:8080/",
     "height": 306
    },
    "colab_type": "code",
    "executionInfo": {
     "elapsed": 4254,
     "status": "ok",
     "timestamp": 1563880624488,
     "user": {
      "displayName": "林建宏",
      "photoUrl": "",
      "userId": "12416564836120847438"
     },
     "user_tz": -480
    },
    "id": "mXhNpLuhi7Jv",
    "outputId": "a5192464-1cc4-4fac-d744-4fafc01d3504"
   },
   "outputs": [
    {
     "name": "stdout",
     "output_type": "stream",
     "text": [
      "Tue Jul 23 11:17:01 2019       \n",
      "+-----------------------------------------------------------------------------+\n",
      "| NVIDIA-SMI 418.67       Driver Version: 410.79       CUDA Version: 10.0     |\n",
      "|-------------------------------+----------------------+----------------------+\n",
      "| GPU  Name        Persistence-M| Bus-Id        Disp.A | Volatile Uncorr. ECC |\n",
      "| Fan  Temp  Perf  Pwr:Usage/Cap|         Memory-Usage | GPU-Util  Compute M. |\n",
      "|===============================+======================+======================|\n",
      "|   0  Tesla K80           Off  | 00000000:00:04.0 Off |                    0 |\n",
      "| N/A   36C    P8    31W / 149W |      0MiB / 11441MiB |      0%      Default |\n",
      "+-------------------------------+----------------------+----------------------+\n",
      "                                                                               \n",
      "+-----------------------------------------------------------------------------+\n",
      "| Processes:                                                       GPU Memory |\n",
      "|  GPU       PID   Type   Process name                             Usage      |\n",
      "|=============================================================================|\n",
      "|  No running processes found                                                 |\n",
      "+-----------------------------------------------------------------------------+\n"
     ]
    }
   ],
   "source": [
    "## \n",
    "\"\"\"\n",
    "Your code here (optional)\n",
    "確認硬體資源\n",
    "\"\"\"\n",
    "## 確認硬體資源 (如果你是在 Linux, 若是在 Windows, 請參考 https://blog.csdn.net/idwtwt/article/details/78017565)\n",
    "!nvidia-smi\n"
   ]
  },
  {
   "cell_type": "code",
   "execution_count": 0,
   "metadata": {
    "colab": {},
    "colab_type": "code",
    "id": "KPQlhDKWi7Jy"
   },
   "outputs": [],
   "source": [
    "import os\n",
    "import keras\n",
    "import numpy as np\n",
    "\n",
    "# 請嘗試設定 GPU：os.environ\n",
    "os.environ[\"CUDA_VISIBLE_DEVICES\"] = \"0\""
   ]
  },
  {
   "cell_type": "code",
   "execution_count": 4,
   "metadata": {
    "colab": {
     "base_uri": "https://localhost:8080/",
     "height": 51
    },
    "colab_type": "code",
    "executionInfo": {
     "elapsed": 9308,
     "status": "ok",
     "timestamp": 1563880681143,
     "user": {
      "displayName": "林建宏",
      "photoUrl": "",
      "userId": "12416564836120847438"
     },
     "user_tz": -480
    },
    "id": "Igbx7zQGi7J2",
    "outputId": "6feef5f9-38b7-4516-a175-80c8cfe8c7b0"
   },
   "outputs": [
    {
     "name": "stdout",
     "output_type": "stream",
     "text": [
      "Downloading data from https://www.cs.toronto.edu/~kriz/cifar-10-python.tar.gz\n",
      "170500096/170498071 [==============================] - 6s 0us/step\n"
     ]
    }
   ],
   "source": [
    "train, test = keras.datasets.cifar10.load_data()"
   ]
  },
  {
   "cell_type": "code",
   "execution_count": 0,
   "metadata": {
    "colab": {},
    "colab_type": "code",
    "id": "YSc-NYfyi7J4"
   },
   "outputs": [],
   "source": [
    "## 資料前處理\n",
    "\"\"\"\n",
    "Your code here\n",
    "\"\"\"\n",
    "def preproc_x(x, flatten=True):\n",
    "    min_x = np.min(x)\n",
    "    max_x = np.max(x)\n",
    "    x  = (2*((x-min_x)/(max_x-min_x)))-1\n",
    "    if flatten:\n",
    "        x = x.reshape((len(x), -1))\n",
    "    return x\n",
    "\n",
    "def preproc_y(y, num_classes=10):\n",
    "      if y.shape[-1] == 1:\n",
    "        y = keras.utils.to_categorical(y, num_classes)\n",
    "      return y"
   ]
  },
  {
   "cell_type": "code",
   "execution_count": 10,
   "metadata": {
    "colab": {
     "base_uri": "https://localhost:8080/",
     "height": 51
    },
    "colab_type": "code",
    "executionInfo": {
     "elapsed": 3432,
     "status": "ok",
     "timestamp": 1563881301516,
     "user": {
      "displayName": "林建宏",
      "photoUrl": "",
      "userId": "12416564836120847438"
     },
     "user_tz": -480
    },
    "id": "kYqc79nli7J5",
    "outputId": "0d189b7b-9d1b-4a49-db00-318c76e411ac"
   },
   "outputs": [
    {
     "name": "stdout",
     "output_type": "stream",
     "text": [
      " x_train min :  -1.0\n",
      " x_train max :  1.0\n"
     ]
    }
   ],
   "source": [
    "x_train, y_train = train\n",
    "x_test, y_test = test\n",
    "\n",
    "# Preproc the inputs\n",
    "x_train = preproc_x(x_train)\n",
    "x_test = preproc_x(x_test)\n",
    "\n",
    "# Preprc the outputs\n",
    "y_train = preproc_y(y_train)\n",
    "y_test = preproc_y(y_test)\n",
    "\n",
    "# validate process result\n",
    "print(\" x_train min : \", np.min(x_train))\n",
    "print(\" x_train max : \", np.max(x_train))\n",
    "# Preprc the outputs\n",
    "y_train = preproc_y(y_train)\n",
    "y_test = preproc_y(y_test)"
   ]
  },
  {
   "cell_type": "code",
   "execution_count": 16,
   "metadata": {
    "colab": {
     "base_uri": "https://localhost:8080/",
     "height": 442
    },
    "colab_type": "code",
    "executionInfo": {
     "elapsed": 1106,
     "status": "ok",
     "timestamp": 1563881793559,
     "user": {
      "displayName": "林建宏",
      "photoUrl": "",
      "userId": "12416564836120847438"
     },
     "user_tz": -480
    },
    "id": "CUCilGeki7J7",
    "outputId": "80e9e4fd-a86d-46f7-8af7-a6a53096ea7b"
   },
   "outputs": [
    {
     "name": "stdout",
     "output_type": "stream",
     "text": [
      "_________________________________________________________________\n",
      "Layer (type)                 Output Shape              Param #   \n",
      "=================================================================\n",
      "input_3 (InputLayer)         (None, 3072)              0         \n",
      "_________________________________________________________________\n",
      "hidden_layer1 (Dense)        (None, 1024)              3146752   \n",
      "_________________________________________________________________\n",
      "hidden_layer2 (Dense)        (None, 512)               524800    \n",
      "_________________________________________________________________\n",
      "hidden_layer3 (Dense)        (None, 265)               135945    \n",
      "_________________________________________________________________\n",
      "hidden_layer4 (Dense)        (None, 128)               34048     \n",
      "_________________________________________________________________\n",
      "hidden_layer5 (Dense)        (None, 64)                8256      \n",
      "_________________________________________________________________\n",
      "hidden_layer6 (Dense)        (None, 32)                2080      \n",
      "_________________________________________________________________\n",
      "hidden_layer7 (Dense)        (None, 16)                528       \n",
      "_________________________________________________________________\n",
      "output (Dense)               (None, 10)                170       \n",
      "=================================================================\n",
      "Total params: 3,852,579\n",
      "Trainable params: 3,852,579\n",
      "Non-trainable params: 0\n",
      "_________________________________________________________________\n"
     ]
    }
   ],
   "source": [
    "\"\"\"Code Here\n",
    "建立你的神經網路\n",
    "\"\"\"\n",
    "# def build_mlp():\n",
    "#     pass\n",
    "\n",
    "  \n",
    "  \n",
    "def build_mlp(input_shape, output_units=10, num_neurons=[512, 256, 128]):\n",
    "    input_layer = keras.layers.Input(input_shape)\n",
    "    \n",
    "    for i, n_units in enumerate(num_neurons):\n",
    "        if i == 0:\n",
    "            x = keras.layers.Dense(units=n_units, activation=\"relu\", name=\"hidden_layer\"+str(i+1))(input_layer)\n",
    "        else:\n",
    "            x = keras.layers.Dense(units=n_units, activation=\"relu\", name=\"hidden_layer\"+str(i+1))(x)\n",
    "    \n",
    "    out = keras.layers.Dense(units=output_units, activation=\"softmax\", name=\"output\")(x)\n",
    "    \n",
    "    model = keras.models.Model(inputs=[input_layer], outputs=[out])\n",
    "    return model\n",
    "\n",
    "model = build_mlp(input_shape=x_train.shape[1:], output_units=10, num_neurons=[1024, 512, 265, 128, 64, 32, 16])  \n",
    "model.summary()"
   ]
  },
  {
   "cell_type": "code",
   "execution_count": 0,
   "metadata": {
    "colab": {},
    "colab_type": "code",
    "id": "FW_irbwIi7J9"
   },
   "outputs": [],
   "source": [
    "## 超參數設定\n",
    "LEARNING_RATE = 0.001\n",
    "EPOCHS = 100\n",
    "BATCH_SIZE = 256"
   ]
  },
  {
   "cell_type": "code",
   "execution_count": 18,
   "metadata": {
    "colab": {
     "base_uri": "https://localhost:8080/",
     "height": 105
    },
    "colab_type": "code",
    "executionInfo": {
     "elapsed": 1187,
     "status": "ok",
     "timestamp": 1563881816086,
     "user": {
      "displayName": "林建宏",
      "photoUrl": "",
      "userId": "12416564836120847438"
     },
     "user_tz": -480
    },
    "id": "bXD-A50pi7KA",
    "outputId": "cfc8b207-aedd-45ac-c872-7add7ba813f4"
   },
   "outputs": [
    {
     "name": "stderr",
     "output_type": "stream",
     "text": [
      "W0723 11:36:55.251071 139626196514688 deprecation_wrapper.py:119] From /usr/local/lib/python3.6/dist-packages/keras/optimizers.py:790: The name tf.train.Optimizer is deprecated. Please use tf.compat.v1.train.Optimizer instead.\n",
      "\n",
      "W0723 11:36:55.265830 139626196514688 deprecation_wrapper.py:119] From /usr/local/lib/python3.6/dist-packages/keras/backend/tensorflow_backend.py:3295: The name tf.log is deprecated. Please use tf.math.log instead.\n",
      "\n"
     ]
    }
   ],
   "source": [
    "optimizer = keras.optimizers.Adam(lr=LEARNING_RATE)\n",
    "model.compile(loss=\"categorical_crossentropy\", metrics=[\"accuracy\"], optimizer=optimizer)"
   ]
  },
  {
   "cell_type": "code",
   "execution_count": 19,
   "metadata": {
    "colab": {
     "base_uri": "https://localhost:8080/",
     "height": 1000
    },
    "colab_type": "code",
    "executionInfo": {
     "elapsed": 444846,
     "status": "ok",
     "timestamp": 1563882276077,
     "user": {
      "displayName": "林建宏",
      "photoUrl": "",
      "userId": "12416564836120847438"
     },
     "user_tz": -480
    },
    "id": "iIfp1A1Pi7KC",
    "outputId": "e6665655-4136-4639-e824-4742b8b8f9e9"
   },
   "outputs": [
    {
     "name": "stderr",
     "output_type": "stream",
     "text": [
      "W0723 11:37:11.752880 139626196514688 deprecation.py:323] From /usr/local/lib/python3.6/dist-packages/tensorflow/python/ops/math_grad.py:1250: add_dispatch_support.<locals>.wrapper (from tensorflow.python.ops.array_ops) is deprecated and will be removed in a future version.\n",
      "Instructions for updating:\n",
      "Use tf.where in 2.0, which has the same broadcast rule as np.where\n",
      "W0723 11:37:11.845999 139626196514688 deprecation_wrapper.py:119] From /usr/local/lib/python3.6/dist-packages/keras/backend/tensorflow_backend.py:986: The name tf.assign_add is deprecated. Please use tf.compat.v1.assign_add instead.\n",
      "\n"
     ]
    },
    {
     "name": "stdout",
     "output_type": "stream",
     "text": [
      "Train on 50000 samples, validate on 10000 samples\n",
      "Epoch 1/100\n",
      "50000/50000 [==============================] - 9s 178us/step - loss: 1.8697 - acc: 0.3423 - val_loss: 1.6458 - val_acc: 0.4215\n",
      "Epoch 2/100\n",
      "50000/50000 [==============================] - 4s 84us/step - loss: 1.5624 - acc: 0.4467 - val_loss: 1.4906 - val_acc: 0.4774\n",
      "Epoch 3/100\n",
      "50000/50000 [==============================] - 4s 85us/step - loss: 1.4192 - acc: 0.4996 - val_loss: 1.4395 - val_acc: 0.4986\n",
      "Epoch 4/100\n",
      "50000/50000 [==============================] - 4s 85us/step - loss: 1.3171 - acc: 0.5342 - val_loss: 1.4089 - val_acc: 0.5043\n",
      "Epoch 5/100\n",
      "50000/50000 [==============================] - 4s 84us/step - loss: 1.2259 - acc: 0.5690 - val_loss: 1.3635 - val_acc: 0.5251\n",
      "Epoch 6/100\n",
      "50000/50000 [==============================] - 4s 83us/step - loss: 1.1419 - acc: 0.6002 - val_loss: 1.3567 - val_acc: 0.5290\n",
      "Epoch 7/100\n",
      "50000/50000 [==============================] - 4s 83us/step - loss: 1.0544 - acc: 0.6277 - val_loss: 1.4085 - val_acc: 0.5278\n",
      "Epoch 8/100\n",
      "50000/50000 [==============================] - 4s 84us/step - loss: 0.9774 - acc: 0.6545 - val_loss: 1.3717 - val_acc: 0.5404\n",
      "Epoch 9/100\n",
      "50000/50000 [==============================] - 4s 85us/step - loss: 0.8952 - acc: 0.6859 - val_loss: 1.4171 - val_acc: 0.5416\n",
      "Epoch 10/100\n",
      "50000/50000 [==============================] - 4s 86us/step - loss: 0.8164 - acc: 0.7128 - val_loss: 1.4589 - val_acc: 0.5406\n",
      "Epoch 11/100\n",
      "50000/50000 [==============================] - 4s 86us/step - loss: 0.7461 - acc: 0.7344 - val_loss: 1.5206 - val_acc: 0.5379\n",
      "Epoch 12/100\n",
      "50000/50000 [==============================] - 4s 87us/step - loss: 0.6745 - acc: 0.7635 - val_loss: 1.5849 - val_acc: 0.5407\n",
      "Epoch 13/100\n",
      "50000/50000 [==============================] - 4s 87us/step - loss: 0.6110 - acc: 0.7833 - val_loss: 1.6850 - val_acc: 0.5389\n",
      "Epoch 14/100\n",
      "50000/50000 [==============================] - 4s 87us/step - loss: 0.5386 - acc: 0.8092 - val_loss: 1.8189 - val_acc: 0.5387\n",
      "Epoch 15/100\n",
      "50000/50000 [==============================] - 4s 86us/step - loss: 0.4972 - acc: 0.8247 - val_loss: 1.8079 - val_acc: 0.5410\n",
      "Epoch 16/100\n",
      "50000/50000 [==============================] - 4s 86us/step - loss: 0.4474 - acc: 0.8424 - val_loss: 2.0182 - val_acc: 0.5429\n",
      "Epoch 17/100\n",
      "50000/50000 [==============================] - 4s 86us/step - loss: 0.4111 - acc: 0.8544 - val_loss: 1.9794 - val_acc: 0.5314\n",
      "Epoch 18/100\n",
      "50000/50000 [==============================] - 4s 88us/step - loss: 0.3655 - acc: 0.8723 - val_loss: 2.1361 - val_acc: 0.5305\n",
      "Epoch 19/100\n",
      "50000/50000 [==============================] - 4s 88us/step - loss: 0.3379 - acc: 0.8807 - val_loss: 2.2229 - val_acc: 0.5333\n",
      "Epoch 20/100\n",
      "50000/50000 [==============================] - 4s 85us/step - loss: 0.2999 - acc: 0.8967 - val_loss: 2.3752 - val_acc: 0.5381\n",
      "Epoch 21/100\n",
      "50000/50000 [==============================] - 4s 83us/step - loss: 0.2906 - acc: 0.8988 - val_loss: 2.4109 - val_acc: 0.5369\n",
      "Epoch 22/100\n",
      "50000/50000 [==============================] - 4s 83us/step - loss: 0.2610 - acc: 0.9101 - val_loss: 2.4898 - val_acc: 0.5341\n",
      "Epoch 23/100\n",
      "50000/50000 [==============================] - 4s 83us/step - loss: 0.2262 - acc: 0.9217 - val_loss: 2.5899 - val_acc: 0.5458\n",
      "Epoch 24/100\n",
      "50000/50000 [==============================] - 4s 84us/step - loss: 0.2315 - acc: 0.9216 - val_loss: 2.7690 - val_acc: 0.5296\n",
      "Epoch 25/100\n",
      "50000/50000 [==============================] - 4s 85us/step - loss: 0.2201 - acc: 0.9243 - val_loss: 2.6297 - val_acc: 0.5280\n",
      "Epoch 26/100\n",
      "50000/50000 [==============================] - 4s 83us/step - loss: 0.2011 - acc: 0.9299 - val_loss: 2.6550 - val_acc: 0.5338\n",
      "Epoch 27/100\n",
      "50000/50000 [==============================] - 4s 86us/step - loss: 0.1924 - acc: 0.9343 - val_loss: 2.8170 - val_acc: 0.5374\n",
      "Epoch 28/100\n",
      "50000/50000 [==============================] - 4s 85us/step - loss: 0.1760 - acc: 0.9402 - val_loss: 2.8078 - val_acc: 0.5289\n",
      "Epoch 29/100\n",
      "50000/50000 [==============================] - 4s 85us/step - loss: 0.1821 - acc: 0.9384 - val_loss: 2.8560 - val_acc: 0.5369\n",
      "Epoch 30/100\n",
      "50000/50000 [==============================] - 4s 85us/step - loss: 0.1497 - acc: 0.9493 - val_loss: 3.0667 - val_acc: 0.5319\n",
      "Epoch 31/100\n",
      "50000/50000 [==============================] - 4s 86us/step - loss: 0.1519 - acc: 0.9485 - val_loss: 2.8841 - val_acc: 0.5380\n",
      "Epoch 32/100\n",
      "50000/50000 [==============================] - 4s 85us/step - loss: 0.1448 - acc: 0.9520 - val_loss: 2.8636 - val_acc: 0.5282\n",
      "Epoch 33/100\n",
      "50000/50000 [==============================] - 4s 84us/step - loss: 0.1470 - acc: 0.9507 - val_loss: 2.9658 - val_acc: 0.5337\n",
      "Epoch 34/100\n",
      "50000/50000 [==============================] - 4s 84us/step - loss: 0.1454 - acc: 0.9521 - val_loss: 3.0376 - val_acc: 0.5356\n",
      "Epoch 35/100\n",
      "50000/50000 [==============================] - 4s 84us/step - loss: 0.1255 - acc: 0.9590 - val_loss: 3.2500 - val_acc: 0.5398\n",
      "Epoch 36/100\n",
      "50000/50000 [==============================] - 4s 84us/step - loss: 0.1326 - acc: 0.9555 - val_loss: 3.0785 - val_acc: 0.5381\n",
      "Epoch 37/100\n",
      "50000/50000 [==============================] - 4s 83us/step - loss: 0.1374 - acc: 0.9545 - val_loss: 2.9979 - val_acc: 0.5403\n",
      "Epoch 38/100\n",
      "50000/50000 [==============================] - 4s 83us/step - loss: 0.1218 - acc: 0.9602 - val_loss: 3.3157 - val_acc: 0.5322\n",
      "Epoch 39/100\n",
      "50000/50000 [==============================] - 4s 84us/step - loss: 0.1169 - acc: 0.9617 - val_loss: 3.2311 - val_acc: 0.5386\n",
      "Epoch 40/100\n",
      "50000/50000 [==============================] - 4s 83us/step - loss: 0.1215 - acc: 0.9600 - val_loss: 3.1429 - val_acc: 0.5405\n",
      "Epoch 41/100\n",
      "50000/50000 [==============================] - 4s 83us/step - loss: 0.1051 - acc: 0.9653 - val_loss: 3.2321 - val_acc: 0.5366\n",
      "Epoch 42/100\n",
      "50000/50000 [==============================] - 4s 83us/step - loss: 0.1053 - acc: 0.9663 - val_loss: 3.2157 - val_acc: 0.5360\n",
      "Epoch 43/100\n",
      "50000/50000 [==============================] - 4s 83us/step - loss: 0.1222 - acc: 0.9595 - val_loss: 3.1701 - val_acc: 0.5371\n",
      "Epoch 44/100\n",
      "50000/50000 [==============================] - 4s 87us/step - loss: 0.1022 - acc: 0.9667 - val_loss: 3.1554 - val_acc: 0.5311\n",
      "Epoch 45/100\n",
      "50000/50000 [==============================] - 4s 88us/step - loss: 0.0987 - acc: 0.9678 - val_loss: 3.3382 - val_acc: 0.5361\n",
      "Epoch 46/100\n",
      "50000/50000 [==============================] - 4s 83us/step - loss: 0.1087 - acc: 0.9656 - val_loss: 3.2503 - val_acc: 0.5275\n",
      "Epoch 47/100\n",
      "50000/50000 [==============================] - 4s 83us/step - loss: 0.1001 - acc: 0.9673 - val_loss: 3.3400 - val_acc: 0.5412\n",
      "Epoch 48/100\n",
      "50000/50000 [==============================] - 4s 84us/step - loss: 0.1096 - acc: 0.9649 - val_loss: 3.1792 - val_acc: 0.5330\n",
      "Epoch 49/100\n",
      "50000/50000 [==============================] - 4s 88us/step - loss: 0.0925 - acc: 0.9705 - val_loss: 3.2713 - val_acc: 0.5377\n",
      "Epoch 50/100\n",
      "50000/50000 [==============================] - 4s 88us/step - loss: 0.0897 - acc: 0.9708 - val_loss: 3.2894 - val_acc: 0.5456\n",
      "Epoch 51/100\n",
      "50000/50000 [==============================] - 4s 87us/step - loss: 0.0899 - acc: 0.9710 - val_loss: 3.3886 - val_acc: 0.5410\n",
      "Epoch 52/100\n",
      "50000/50000 [==============================] - 4s 87us/step - loss: 0.0870 - acc: 0.9723 - val_loss: 3.3535 - val_acc: 0.5399\n",
      "Epoch 53/100\n",
      "50000/50000 [==============================] - 5s 91us/step - loss: 0.0929 - acc: 0.9695 - val_loss: 3.2494 - val_acc: 0.5395\n",
      "Epoch 54/100\n",
      "50000/50000 [==============================] - 5s 91us/step - loss: 0.0943 - acc: 0.9699 - val_loss: 3.3402 - val_acc: 0.5334\n",
      "Epoch 55/100\n",
      "50000/50000 [==============================] - 5s 91us/step - loss: 0.0835 - acc: 0.9732 - val_loss: 3.2592 - val_acc: 0.5369\n",
      "Epoch 56/100\n",
      "50000/50000 [==============================] - 5s 91us/step - loss: 0.0831 - acc: 0.9734 - val_loss: 3.3675 - val_acc: 0.5377\n",
      "Epoch 57/100\n",
      "50000/50000 [==============================] - 4s 90us/step - loss: 0.0836 - acc: 0.9730 - val_loss: 3.4323 - val_acc: 0.5433\n",
      "Epoch 58/100\n",
      "50000/50000 [==============================] - 5s 90us/step - loss: 0.0688 - acc: 0.9776 - val_loss: 3.4604 - val_acc: 0.5299\n",
      "Epoch 59/100\n",
      "50000/50000 [==============================] - 5s 91us/step - loss: 0.0825 - acc: 0.9738 - val_loss: 3.4048 - val_acc: 0.5392\n",
      "Epoch 60/100\n",
      "50000/50000 [==============================] - 5s 90us/step - loss: 0.0854 - acc: 0.9738 - val_loss: 3.1970 - val_acc: 0.5342\n",
      "Epoch 61/100\n",
      "50000/50000 [==============================] - 4s 90us/step - loss: 0.0752 - acc: 0.9760 - val_loss: 3.3450 - val_acc: 0.5487\n",
      "Epoch 62/100\n",
      "50000/50000 [==============================] - 4s 90us/step - loss: 0.0659 - acc: 0.9792 - val_loss: 3.3271 - val_acc: 0.5296\n",
      "Epoch 63/100\n",
      "50000/50000 [==============================] - 4s 89us/step - loss: 0.0739 - acc: 0.9762 - val_loss: 3.3563 - val_acc: 0.5383\n",
      "Epoch 64/100\n",
      "50000/50000 [==============================] - 4s 89us/step - loss: 0.0760 - acc: 0.9764 - val_loss: 3.2160 - val_acc: 0.5414\n",
      "Epoch 65/100\n",
      "50000/50000 [==============================] - 4s 89us/step - loss: 0.0692 - acc: 0.9778 - val_loss: 3.3865 - val_acc: 0.5444\n",
      "Epoch 66/100\n",
      "50000/50000 [==============================] - 5s 95us/step - loss: 0.0755 - acc: 0.9757 - val_loss: 3.4778 - val_acc: 0.5336\n",
      "Epoch 67/100\n",
      "50000/50000 [==============================] - 5s 95us/step - loss: 0.0725 - acc: 0.9766 - val_loss: 3.5170 - val_acc: 0.5388\n",
      "Epoch 68/100\n",
      "50000/50000 [==============================] - 5s 90us/step - loss: 0.0754 - acc: 0.9758 - val_loss: 3.4617 - val_acc: 0.5438\n",
      "Epoch 69/100\n",
      "50000/50000 [==============================] - 5s 93us/step - loss: 0.0700 - acc: 0.9781 - val_loss: 3.4320 - val_acc: 0.5393\n",
      "Epoch 70/100\n",
      "50000/50000 [==============================] - 5s 92us/step - loss: 0.0612 - acc: 0.9807 - val_loss: 3.4195 - val_acc: 0.5326\n",
      "Epoch 71/100\n",
      "50000/50000 [==============================] - 4s 89us/step - loss: 0.0653 - acc: 0.9799 - val_loss: 3.5266 - val_acc: 0.5346\n",
      "Epoch 72/100\n",
      "50000/50000 [==============================] - 4s 90us/step - loss: 0.0599 - acc: 0.9812 - val_loss: 3.4819 - val_acc: 0.5459\n",
      "Epoch 73/100\n",
      "50000/50000 [==============================] - 4s 89us/step - loss: 0.0673 - acc: 0.9786 - val_loss: 3.3660 - val_acc: 0.5379\n",
      "Epoch 74/100\n",
      "50000/50000 [==============================] - 4s 90us/step - loss: 0.0672 - acc: 0.9788 - val_loss: 3.2796 - val_acc: 0.5438\n",
      "Epoch 75/100\n",
      "50000/50000 [==============================] - 5s 94us/step - loss: 0.0667 - acc: 0.9794 - val_loss: 3.3348 - val_acc: 0.5423\n",
      "Epoch 76/100\n",
      "50000/50000 [==============================] - 5s 90us/step - loss: 0.0653 - acc: 0.9795 - val_loss: 3.4012 - val_acc: 0.5432\n",
      "Epoch 77/100\n",
      "50000/50000 [==============================] - 5s 93us/step - loss: 0.0641 - acc: 0.9796 - val_loss: 3.4414 - val_acc: 0.5376\n",
      "Epoch 78/100\n",
      "50000/50000 [==============================] - 4s 89us/step - loss: 0.0661 - acc: 0.9792 - val_loss: 3.4261 - val_acc: 0.5378\n",
      "Epoch 79/100\n",
      "50000/50000 [==============================] - 5s 91us/step - loss: 0.0608 - acc: 0.9820 - val_loss: 3.3476 - val_acc: 0.5482\n",
      "Epoch 80/100\n",
      "50000/50000 [==============================] - 5s 94us/step - loss: 0.0541 - acc: 0.9831 - val_loss: 3.4314 - val_acc: 0.5353\n",
      "Epoch 81/100\n",
      "50000/50000 [==============================] - 5s 93us/step - loss: 0.0594 - acc: 0.9821 - val_loss: 3.4298 - val_acc: 0.5410\n",
      "Epoch 82/100\n",
      "50000/50000 [==============================] - 4s 90us/step - loss: 0.0501 - acc: 0.9847 - val_loss: 3.5074 - val_acc: 0.5435\n",
      "Epoch 83/100\n",
      "50000/50000 [==============================] - 4s 89us/step - loss: 0.0537 - acc: 0.9828 - val_loss: 3.4368 - val_acc: 0.5403\n",
      "Epoch 84/100\n",
      "50000/50000 [==============================] - 4s 89us/step - loss: 0.0661 - acc: 0.9796 - val_loss: 3.3942 - val_acc: 0.5352\n",
      "Epoch 85/100\n",
      "50000/50000 [==============================] - 4s 90us/step - loss: 0.0501 - acc: 0.9843 - val_loss: 3.6103 - val_acc: 0.5386\n",
      "Epoch 86/100\n",
      "50000/50000 [==============================] - 4s 89us/step - loss: 0.0555 - acc: 0.9829 - val_loss: 3.4531 - val_acc: 0.5399\n",
      "Epoch 87/100\n",
      "50000/50000 [==============================] - 4s 90us/step - loss: 0.0634 - acc: 0.9803 - val_loss: 3.3275 - val_acc: 0.5419\n",
      "Epoch 88/100\n",
      "50000/50000 [==============================] - 5s 90us/step - loss: 0.0576 - acc: 0.9820 - val_loss: 3.4150 - val_acc: 0.5408\n",
      "Epoch 89/100\n",
      "50000/50000 [==============================] - 5s 90us/step - loss: 0.0494 - acc: 0.9852 - val_loss: 3.4152 - val_acc: 0.5390\n",
      "Epoch 90/100\n",
      "50000/50000 [==============================] - 5s 90us/step - loss: 0.0577 - acc: 0.9826 - val_loss: 3.3908 - val_acc: 0.5451\n",
      "Epoch 91/100\n",
      "50000/50000 [==============================] - 4s 90us/step - loss: 0.0487 - acc: 0.9842 - val_loss: 3.5412 - val_acc: 0.5475\n",
      "Epoch 92/100\n",
      "50000/50000 [==============================] - 5s 90us/step - loss: 0.0460 - acc: 0.9862 - val_loss: 3.3521 - val_acc: 0.5469\n",
      "Epoch 93/100\n",
      "50000/50000 [==============================] - 5s 90us/step - loss: 0.0453 - acc: 0.9860 - val_loss: 3.4896 - val_acc: 0.5387\n",
      "Epoch 94/100\n",
      "50000/50000 [==============================] - 5s 92us/step - loss: 0.0650 - acc: 0.9811 - val_loss: 3.3336 - val_acc: 0.5490\n",
      "Epoch 95/100\n",
      "50000/50000 [==============================] - 5s 95us/step - loss: 0.0559 - acc: 0.9835 - val_loss: 3.4011 - val_acc: 0.5348\n",
      "Epoch 96/100\n",
      "50000/50000 [==============================] - 5s 92us/step - loss: 0.0387 - acc: 0.9879 - val_loss: 3.4844 - val_acc: 0.5362\n",
      "Epoch 97/100\n",
      "50000/50000 [==============================] - 5s 92us/step - loss: 0.0477 - acc: 0.9857 - val_loss: 3.4374 - val_acc: 0.5418\n",
      "Epoch 98/100\n",
      "50000/50000 [==============================] - 5s 91us/step - loss: 0.0498 - acc: 0.9842 - val_loss: 3.3138 - val_acc: 0.5439\n",
      "Epoch 99/100\n",
      "50000/50000 [==============================] - 4s 89us/step - loss: 0.0585 - acc: 0.9825 - val_loss: 3.2611 - val_acc: 0.5433\n",
      "Epoch 100/100\n",
      "50000/50000 [==============================] - 4s 88us/step - loss: 0.0590 - acc: 0.9818 - val_loss: 3.4954 - val_acc: 0.5360\n"
     ]
    },
    {
     "data": {
      "text/plain": [
       "<keras.callbacks.History at 0x7efcf6a3e9b0>"
      ]
     },
     "execution_count": 19,
     "metadata": {
      "tags": []
     },
     "output_type": "execute_result"
    }
   ],
   "source": [
    "model.fit(x_train, y_train, \n",
    "          epochs=EPOCHS, \n",
    "          batch_size=BATCH_SIZE, \n",
    "          validation_data=(x_test, y_test), \n",
    "          shuffle=True)"
   ]
  },
  {
   "cell_type": "code",
   "execution_count": 20,
   "metadata": {
    "colab": {
     "base_uri": "https://localhost:8080/",
     "height": 545
    },
    "colab_type": "code",
    "executionInfo": {
     "elapsed": 1848,
     "status": "ok",
     "timestamp": 1563882384794,
     "user": {
      "displayName": "林建宏",
      "photoUrl": "",
      "userId": "12416564836120847438"
     },
     "user_tz": -480
    },
    "id": "OTGhvm_yi7KG",
    "outputId": "701bc477-ed01-4196-ab02-1864641bd65e"
   },
   "outputs": [
    {
     "data": {
      "image/png": "[encoded data removed]",
      "text/plain": [
       "<Figure size 432x288 with 1 Axes>"
      ]
     },
     "metadata": {
      "tags": []
     },
     "output_type": "display_data"
    },
    {
     "data": {
      "image/png": "[encoded data removed]",
      "text/plain": [
       "<Figure size 432x288 with 1 Axes>"
      ]
     },
     "metadata": {
      "tags": []
     },
     "output_type": "display_data"
    }
   ],
   "source": [
    "import matplotlib.pyplot as plt\n",
    "\n",
    "\n",
    "train_loss = model.history.history[\"loss\"]\n",
    "valid_loss = model.history.history[\"val_loss\"]\n",
    "\n",
    "train_acc = model.history.history[\"acc\"]\n",
    "valid_acc = model.history.history[\"val_acc\"]\n",
    "\n",
    "plt.plot(range(len(train_loss)), train_loss, label=\"train loss\")\n",
    "plt.plot(range(len(valid_loss)), valid_loss, label=\"valid loss\")\n",
    "plt.legend()\n",
    "plt.title(\"Loss\")\n",
    "plt.show()\n",
    "\n",
    "plt.plot(range(len(train_acc)), train_acc, label=\"train accuracy\")\n",
    "plt.plot(range(len(valid_acc)), valid_acc, label=\"valid accuracy\")\n",
    "plt.legend()\n",
    "plt.title(\"Accuracy\")\n",
    "plt.show()"
   ]
  }
 ],
 "metadata": {
  "accelerator": "GPU",
  "colab": {
   "collapsed_sections": [],
   "name": "Day078_HW.ipynb",
   "provenance": [],
   "version": "0.3.2"
  },
  "kernelspec": {
   "display_name": "Python 3",
   "language": "python",
   "name": "python3"
  },
  "language_info": {
   "codemirror_mode": {
    "name": "ipython",
    "version": 3
   },
   "file_extension": ".py",
   "mimetype": "text/x-python",
   "name": "python",
   "nbconvert_exporter": "python",
   "pygments_lexer": "ipython3",
   "version": "3.6.8"
  }
 },
 "nbformat": 4,
 "nbformat_minor": 1
}
